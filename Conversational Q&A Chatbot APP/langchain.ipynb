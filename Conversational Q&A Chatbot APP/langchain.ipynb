{
 "cells": [
  {
   "cell_type": "code",
   "execution_count": 1,
   "metadata": {},
   "outputs": [],
   "source": [
    "from langchain.llms import OpenAI"
   ]
  },
  {
   "cell_type": "code",
   "execution_count": 2,
   "metadata": {},
   "outputs": [],
   "source": [
    "import os\n",
    "os.environ[\"OPEN_API_KEY\"]=\"sk-W0JG75h5r5DwZtT3BlbkFJpGUEZP9klsgxigfjqYyj\""
   ]
  },
  {
   "cell_type": "code",
   "execution_count": 3,
   "metadata": {},
   "outputs": [
    {
     "name": "stderr",
     "output_type": "stream",
     "text": [
      "d:\\LLM & Gen AI\\Conversational Q&A Chatbot\\venv\\Lib\\site-packages\\langchain_core\\_api\\deprecation.py:117: LangChainDeprecationWarning: The class `langchain_community.llms.openai.OpenAI` was deprecated in langchain-community 0.0.10 and will be removed in 0.2.0. An updated version of the class exists in the langchain-openai package and should be used instead. To use it run `pip install -U langchain-openai` and import as `from langchain_openai import OpenAI`.\n",
      "  warn_deprecated(\n"
     ]
    }
   ],
   "source": [
    "llm=OpenAI(openai_api_key=os.environ[\"OPEN_API_KEY\"],temperature=0.6)"
   ]
  },
  {
   "cell_type": "code",
   "execution_count": 4,
   "metadata": {},
   "outputs": [
    {
     "data": {
      "text/plain": [
       "'Tell me the capital of this india'"
      ]
     },
     "execution_count": 4,
     "metadata": {},
     "output_type": "execute_result"
    }
   ],
   "source": [
    "from langchain.prompts import PromptTemplate\n",
    "\n",
    "prompttemplate=PromptTemplate(input_variables=[\"country\"],template=\"Tell me the capital of this {country}\")\n",
    "\n",
    "prompttemplate.format(country=\"india\")"
   ]
  },
  {
   "cell_type": "code",
   "execution_count": 5,
   "metadata": {},
   "outputs": [
    {
     "name": "stderr",
     "output_type": "stream",
     "text": [
      "d:\\LLM & Gen AI\\Conversational Q&A Chatbot\\venv\\Lib\\site-packages\\langchain_core\\_api\\deprecation.py:117: LangChainDeprecationWarning: The function `run` was deprecated in LangChain 0.1.0 and will be removed in 0.2.0. Use invoke instead.\n",
      "  warn_deprecated(\n"
     ]
    },
    {
     "name": "stdout",
     "output_type": "stream",
     "text": [
      " state\n",
      "\n",
      "I cannot answer this question as you have not specified which state in India you are referring to. India has 28 states and 8 union territories, each with its own capital. Please provide more information for me to give an accurate answer.\n"
     ]
    }
   ],
   "source": [
    "from langchain.chains import LLMChain\n",
    "\n",
    "chain=LLMChain(llm=llm,prompt=prompttemplate)\n",
    "\n",
    "print(chain.run(\"india\"))"
   ]
  },
  {
   "cell_type": "code",
   "execution_count": 6,
   "metadata": {},
   "outputs": [
    {
     "name": "stdout",
     "output_type": "stream",
     "text": [
      " Some amazing places to visit in Colombo are:\n",
      "\n",
      "1. Galle Face Green: This is a popular promenade along the coast of Colombo, offering stunning views of the ocean and a great place to watch the sunset.\n",
      "\n",
      "2. Viharamahadevi Park: This is the largest park in Colombo, with beautiful gardens, a lake, and a children's play area. It's a great place to relax and enjoy some greenery in the city.\n",
      "\n",
      "3. Gangaramaya Temple: This Buddhist temple is a must-visit for its stunning architecture and intricate decorations. It also houses a museum and a library.\n",
      "\n",
      "4. National Museum of Colombo: This museum showcases the history and culture of Sri Lanka, with a collection of artifacts and exhibits dating back to ancient times.\n",
      "\n",
      "5. Mount Lavinia Beach: Located just outside of Colombo, this beach is a popular spot for locals and tourists alike. It's a great place to relax, swim, and enjoy some delicious seafood.\n",
      "\n",
      "6. Old Parliament Building: This iconic building is a symbol of Colombo's colonial past. It now serves as a museum and is a great place to learn about the country's political history.\n",
      "\n",
      "7. Independence Square: This square is a national monument built to commemorate Sri Lanka\n"
     ]
    }
   ],
   "source": [
    "capital_template=PromptTemplate(input_variables=['country'],template=\"tell me the capital of {country}\")\n",
    "capital_chain=LLMChain(llm=llm,prompt=capital_template)\n",
    "\n",
    "famous_template=PromptTemplate(input_variables=[\"capital\"],template=\"suggest me some amazing places to visit in {capital}\")\n",
    "famous_chain=LLMChain(llm=llm,prompt=famous_template)\n",
    "\n",
    "from langchain.chains import SimpleSequentialChain\n",
    "chain=SimpleSequentialChain(chains=[capital_chain,famous_chain])\n",
    "print(chain.run(\"srilanka\"))"
   ]
  },
  {
   "cell_type": "code",
   "execution_count": 7,
   "metadata": {},
   "outputs": [
    {
     "name": "stderr",
     "output_type": "stream",
     "text": [
      "d:\\LLM & Gen AI\\Conversational Q&A Chatbot\\venv\\Lib\\site-packages\\langchain_core\\_api\\deprecation.py:117: LangChainDeprecationWarning: The function `__call__` was deprecated in LangChain 0.1.0 and will be removed in 0.2.0. Use invoke instead.\n",
      "  warn_deprecated(\n"
     ]
    },
    {
     "name": "stdout",
     "output_type": "stream",
     "text": [
      "{'country': 'india', 'capital': '\\n\\nThe capital of India is New Delhi.', 'places': \" Some places to visit in New Delhi are:\\n\\n1. Red Fort - a historic fort built in the 17th century by Mughal emperor Shah Jahan.\\n\\n2. India Gate - a war memorial dedicated to the soldiers of the Indian Army who died in World War I.\\n\\n3. Qutub Minar - a 73-meter tall tower built in the 12th century, it is a UNESCO World Heritage Site.\\n\\n4. Lotus Temple - a Bahá'í House of Worship known for its unique lotus-shaped architecture.\\n\\n5. Humayun's Tomb - another UNESCO World Heritage Site, it is the tomb of Mughal emperor Humayun.\\n\\n6. Jama Masjid - one of the largest and most famous mosques in India, built by Mughal emperor Shah Jahan.\\n\\n7. Chandni Chowk - a bustling market in Old Delhi known for its narrow lanes, street food, and traditional bazaars.\\n\\n8. Akshardham Temple - a magnificent Hindu temple complex known for its stunning architecture and spiritual atmosphere.\\n\\n9. Rashtrapati Bhavan - the official residence of the President of India, it is a grand and impressive building.\\n\\n10. National Gallery of Modern Art - a must-visit for art lovers, it houses a\"}\n"
     ]
    }
   ],
   "source": [
    "capital_template=PromptTemplate(input_variables=[\"country\"],template=\"tell me the capital of {country}\")\n",
    "capital_chain=LLMChain(llm=llm,prompt=capital_template,output_key=\"capital\")\n",
    "\n",
    "famous_template=PromptTemplate(input_variables=[\"capital\"],template=\"suggest me some places to visit in {capital}\")\n",
    "famous_chain=LLMChain(llm=llm,prompt=famous_template,output_key=\"places\")\n",
    "\n",
    "from langchain.chains import SequentialChain\n",
    "chain=SequentialChain(chains=[capital_chain,famous_chain],input_variables=[\"country\"],output_variables=[\"capital\",\"places\"])\n",
    "print(chain({'country':'india'}))\n"
   ]
  },
  {
   "cell_type": "code",
   "execution_count": 8,
   "metadata": {},
   "outputs": [
    {
     "name": "stderr",
     "output_type": "stream",
     "text": [
      "d:\\LLM & Gen AI\\Conversational Q&A Chatbot\\venv\\Lib\\site-packages\\langchain_core\\_api\\deprecation.py:117: LangChainDeprecationWarning: The class `langchain_community.chat_models.openai.ChatOpenAI` was deprecated in langchain-community 0.0.10 and will be removed in 0.2.0. An updated version of the class exists in the langchain-openai package and should be used instead. To use it run `pip install -U langchain-openai` and import as `from langchain_openai import ChatOpenAI`.\n",
      "  warn_deprecated(\n",
      "d:\\LLM & Gen AI\\Conversational Q&A Chatbot\\venv\\Lib\\site-packages\\langchain_core\\_api\\deprecation.py:117: LangChainDeprecationWarning: The function `__call__` was deprecated in LangChain 0.1.7 and will be removed in 0.2.0. Use invoke instead.\n",
      "  warn_deprecated(\n"
     ]
    },
    {
     "data": {
      "text/plain": [
       "AIMessage(content='Sure, here are a few comedy punches on love for you:\\n\\n1. \"Love is like a rollercoaster ride: it\\'s thrilling, it\\'s terrifying, and you can\\'t help but scream at the top of your lungs!\"\\n\\n2. \"They say love is blind, but I think it\\'s more like love is a terrible optometrist. It makes you see things that aren\\'t there and overlook all the red flags!\"\\n\\n3. \"Love is like a puzzle: you spend hours trying to find the right pieces, only to realize that you\\'re missing a few and the picture on the box is completely misleading!\"\\n\\n4. \"Relationships are like math problems: you think you\\'ve got it all figured out, but then you realize you forgot to carry the 1 and suddenly everything falls apart.\"\\n\\n5. \"Love is like a game of hide and seek, except instead of finding someone, you end up finding their flaws, weird habits, and an impressive collection of mismatched socks.\"\\n\\nRemember, comedy is subjective, so it\\'s all in good fun!')"
      ]
     },
     "execution_count": 8,
     "metadata": {},
     "output_type": "execute_result"
    }
   ],
   "source": [
    "from langchain.chat_models import ChatOpenAI\n",
    "from langchain.schema import HumanMessage,SystemMessage,AIMessage\n",
    "\n",
    "chatllm=ChatOpenAI(openai_api_key=os.environ[\"OPEN_API_KEY\"],temperature=0.6,model='gpt-3.5-turbo')\n",
    "chatllm([SystemMessage(content=\"you are a comedian AI assistant\"),HumanMessage(content=\"please provide some comedy punches on love\")])"
   ]
  },
  {
   "cell_type": "code",
   "execution_count": 9,
   "metadata": {},
   "outputs": [
    {
     "data": {
      "text/plain": [
       "['beautiful', ' attractive', ' lovely', ' stunning', ' charming']"
      ]
     },
     "execution_count": 9,
     "metadata": {},
     "output_type": "execute_result"
    }
   ],
   "source": [
    "from langchain.chat_models import ChatOpenAI\n",
    "from langchain.prompts.chat import ChatPromptTemplate\n",
    "from langchain.schema import BaseOutputParser\n",
    "\n",
    "class commaseperatedoutput(BaseOutputParser):\n",
    "    def parse(self,text:str):\n",
    "        return text.strip().split(\",\")\n",
    "    \n",
    "template=\"Your are a helpful assistant. When the use given any input , you should generate 5 words synonyms\"\n",
    "human_template=\"{text}\"\n",
    "chatprompt=ChatPromptTemplate.from_messages([\n",
    "    (\"system\",template),\n",
    "    (\"human\",human_template)\n",
    "    ])\n",
    "\n",
    "chain=chatprompt|chatllm|commaseperatedoutput()\n",
    "\n",
    "chain.invoke({\"text\":\"sundar\"})"
   ]
  }
 ],
 "metadata": {
  "kernelspec": {
   "display_name": "Python 3",
   "language": "python",
   "name": "python3"
  },
  "language_info": {
   "codemirror_mode": {
    "name": "ipython",
    "version": 3
   },
   "file_extension": ".py",
   "mimetype": "text/x-python",
   "name": "python",
   "nbconvert_exporter": "python",
   "pygments_lexer": "ipython3",
   "version": "3.11.7"
  }
 },
 "nbformat": 4,
 "nbformat_minor": 2
}
